{
 "cells": [
  {
   "cell_type": "code",
   "execution_count": null,
   "metadata": {},
   "outputs": [],
   "source": [
    "# Bayes Decision Rule\n",
    "*Complete and hand in this completed worksheet (including its outputs and any supporting code outside of the worksheet) with your assignment submission. Please check the pdf file for more details.*\n",
    "\n",
    "In this exercise you will:\n",
    "    \n",
    "- implement the calculation of **likelihood** of each features given particular class \n",
    "- implement the calculation of **posterior** of each class given particular feature\n",
    "- implement the calculation of **minimal total risk** of bayes decision rule"
   ]
  },
  {
   "cell_type": "code",
   "execution_count": null,
   "metadata": {},
   "outputs": [],
   "source": [
    "# some basic imports\n",
    "import scipy.io as sio\n",
    "import numpy as np\n",
    "import matplotlib.pyplot as plt\n",
    "\n",
    "%matplotlib inline\n",
    "\n",
    "%load_ext autoreload\n",
    "%autoreload 2"
   ]
  },
  {
   "cell_type": "code",
   "execution_count": 2,
   "metadata": {
    "scrolled": true
   },
   "outputs": [
    {
     "name": "stdout",
     "output_type": "stream",
     "text": [
      "{'__header__': b'MATLAB 5.0 MAT-file, Platform: GLNXA64, Created on: Tue May 12 21:59:26 2015', '__version__': '1.0', '__globals__': [], 'x1_train': array([[ 7,  7,  4,  7,  9,  6,  6,  5,  5,  6,  7,  6,  7,  7,  6,  7,\n",
      "         7,  6,  8,  5,  7,  6,  6,  7,  8,  7,  8,  6,  7,  6,  6,  4,\n",
      "         7,  8,  7,  8,  7,  5,  6,  6,  8,  6,  7,  5,  6,  5,  6,  7,\n",
      "         8,  7,  7,  8,  7,  4,  5,  6,  6,  5,  6,  6,  8,  6,  5,  6,\n",
      "         6,  7,  6,  5,  7,  6,  6,  6,  7,  6,  5,  9,  6,  7,  7,  5,\n",
      "         8,  7,  7,  8,  7,  5,  6,  8,  8,  7,  5,  8,  6,  7,  8,  7,\n",
      "         3,  5,  6,  5,  7,  7,  6,  8,  6,  6,  6,  6,  7,  5,  6,  7,\n",
      "         7,  5,  7,  6,  7,  7,  6,  6,  7,  7,  6,  5,  6,  8,  7,  7,\n",
      "         6,  6,  9,  6,  6,  6,  7,  6,  5,  7,  8,  7,  6,  7,  8,  8,\n",
      "         5,  7,  6,  7,  7,  6,  5,  5,  6,  6,  8,  6,  7,  7,  7,  7,\n",
      "         6,  7,  8,  7,  7,  7,  8,  6,  6,  7,  6,  7,  5,  8,  6,  7,\n",
      "         6,  7,  5,  5,  8,  6,  6,  7,  6,  7,  8,  7,  8,  5,  6,  6,\n",
      "         7,  5,  5,  6,  5,  6,  6,  5,  7,  7,  6,  5,  6,  6,  4,  8,\n",
      "         7,  5,  8,  6,  5,  6,  7,  5,  6,  6,  6,  7,  6,  6,  7,  4,\n",
      "         5,  5,  7,  7,  6,  8,  8,  6, 10,  6,  7,  6,  5,  8,  5,  7,\n",
      "         8,  7,  7,  6,  7,  8,  6,  6,  6,  6,  6,  7,  7,  6,  8,  6,\n",
      "         6,  7,  5,  5,  5,  4,  9,  6,  7,  7,  6,  6,  7,  5,  8,  8,\n",
      "         6,  7,  5,  7,  6,  8,  6,  9,  7,  7,  8,  8,  6,  6,  6,  8,\n",
      "         6,  6,  7,  8,  6,  7,  4,  6,  5,  6,  6,  6,  6,  7,  8,  5,\n",
      "         8,  8,  7,  8,  7,  5,  8,  9,  6,  5,  8,  6,  5,  8,  6,  6,\n",
      "         6,  6,  7,  5,  7,  8,  6,  7,  5,  7,  5,  7,  7,  6,  5,  8,\n",
      "         7,  8,  7,  5,  8,  6,  7,  6,  7,  7,  8,  7,  6,  7,  7,  6,\n",
      "         7,  5,  5,  7,  7,  7,  8,  8,  8,  7,  7,  6,  6,  5,  7,  7,\n",
      "         5,  6,  6,  6,  7,  7,  7,  7,  7,  4,  5,  6,  7,  8,  6,  6,\n",
      "         6,  7,  7,  8,  6,  7,  7,  5,  7,  8,  5,  6,  5,  8,  6,  7]],\n",
      "      dtype=uint8), 'x1_test': array([[5, 5, 7, 7, 7, 7, 7, 7, 6, 7, 5, 6, 6, 7, 8, 7, 7, 7, 8, 7, 7, 6,\n",
      "        7, 5, 7, 7, 6, 7, 7, 7, 6, 8, 7, 7, 5, 6, 5, 6, 5, 6, 7, 6, 8, 8,\n",
      "        8, 7, 7, 6, 7, 5, 7, 8, 5, 6, 5, 7, 8, 8, 5, 6, 6, 6, 6, 4, 7, 6,\n",
      "        7, 7, 4, 6, 7, 8, 6, 7, 7, 7, 8, 6, 9, 7, 6, 6, 7, 7, 7, 7, 7, 5,\n",
      "        6, 6, 6, 7, 7, 6, 6, 6, 7, 6, 8, 6]], dtype=uint8), 'x2_train': array([[ 4,  7,  1,  3,  0,  1, -1,  1,  5,  3,  5,  7,  5,  6,  6, 11,\n",
      "         6, -1,  4,  6,  6,  6,  2,  4,  5,  4, 10, -1,  6,  7,  2,  5,\n",
      "         3,  0,  4,  9,  2,  5,  0,  1,  0, -1,  1,  1,  2, -1,  2,  1,\n",
      "         1,  3,  7,  3,  5,  8,  6,  4,  7, 10,  2,  6,  1,  0,  1,  3,\n",
      "        -2, -1,  3,  5,  6,  5,  3,  5, 11,  9,  3,  8,  2,  5,  4,  6,\n",
      "         0,  5,  4,  4,  0,  2, -1,  1,  1,  2,  4,  6,  0,  4,  7,  6,\n",
      "        -1,  6,  3,  8,  6,  2,  4,  5, -4,  2,  2,  0, -3,  6,  2,  7,\n",
      "         1,  6,  6,  5,  0,  3,  2,  1,  2, -1,  3,  3,  1,  5,  0,  3,\n",
      "         5,  4, -4,  1,  2,  2, -1,  3,  3,  7,  4,  6,  3, -2, -1,  1,\n",
      "         2,  5,  1,  2,  4,  2,  0,  2,  1,  6,  4,  5,  2, 10,  4,  1,\n",
      "         0,  4,  2, -1,  2, -1,  6,  9,  6,  3,  8,  4, -3,  3,  4,  5,\n",
      "         3,  7,  0, 11,  8,  3,  4,  1,  1,  4,  6,  6, 10,  3,  3, -5,\n",
      "         3,  4,  4,  2,  0,  2, 10,  1,  4,  0,  7,  6,  4,  3,  8,  5,\n",
      "         3,  4,  8,  5,  4,  5,  3,  1,  5, -1,  1,  7,  1,  4,  3,  4,\n",
      "         5,  2, -3,  7,  2,  4,  6,  0,  7,  6,  4,  2,  7,  5,  5, 12,\n",
      "         5,  7,  3,  9,  3,  1,  3, -2,  7,  0,  4,  6,  5,  5,  1,  3,\n",
      "         6,  1,  0,  1,  6,  3,  4, -2,  1,  1,  0,  7,  7, -1,  4,  1,\n",
      "         3,  4,  9,  5,  2,  6,  6,  4, 10,  3,  2,  5,  0,  2,  2,  8,\n",
      "         6,  5,  6,  6,  4, -1, -2,  4,  8,  6,  7,  9,  2,  2,  7,  1,\n",
      "        10,  6,  2,  2,  5,  6,  7,  5,  0,  4, -1,  5,  5,  4,  1,  7,\n",
      "         6,  1, -1,  7,  5,  4,  4,  6,  2,  8,  5,  1,  2,  8,  2,  0,\n",
      "         7,  4, 10,  3,  5,  3,  5, -1,  4,  6,  3,  2,  4, -3,  7,  5,\n",
      "         5,  5,  4,  8,  0,  3,  7,  3,  5, -1,  5,  7, -3,  3,  0,  0,\n",
      "         5,  7,  3,  2,  9,  3,  5,  2,  5,  0,  4,  1,  3,  6,  9,  2,\n",
      "         5,  2,  4, 12,  4,  2,  7,  6, -1,  2,  2,  3,  4,  2,  5,  5,\n",
      "         1,  5,  0,  6,  3,  6,  1,  6,  3,  3,  3,  6,  9,  6,  4,  1,\n",
      "         4,  1,  3,  6,  3,  7,  2,  5,  4, -1,  2,  7,  0,  3,  1,  1,\n",
      "         1,  6,  4,  5,  2,  3,  6,  0,  1,  7,  9,  1,  5,  0,  5,  4,\n",
      "         0,  5,  7,  3,  1,  0,  0,  5,  5,  1,  6,  0,  8, -3,  3,  6,\n",
      "         4,  4,  2,  9,  2,  6,  7,  2,  8,  5, -1,  2,  3,  5,  6,  6,\n",
      "        -1, -1,  8,  6,  5,  8,  9,  1,  4,  5,  4,  4,  4,  7, -5,  3,\n",
      "         3,  2,  4,  5,  3,  4, -1,  0,  2,  3,  0,  0,  5,  4,  8,  5,\n",
      "         0, -3,  4,  3,  5,  6,  3,  4,  1,  7,  4,  2,  2,  9,  5,  5,\n",
      "         5,  5,  5,  4,  9,  3,  1,  2,  7,  6,  7,  3,  4, -2,  6,  3,\n",
      "         4,  7,  3,  5,  1,  2,  5,  3, -1,  2, 12,  5,  4,  2, -2,  4,\n",
      "        -6,  1, -1,  3,  7,  5,  2, -1,  2,  0,  5,  2,  8,  3, -1,  4,\n",
      "         6,  2,  5,  5,  5,  3,  3,  3,  3, -1,  3,  0,  4,  0,  8,  6,\n",
      "         2, 10,  7,  6, -3,  0,  1,  3,  0,  5,  2,  3,  2,  3,  8, -2,\n",
      "         1,  2,  5,  0,  2,  6,  0,  7,  5,  5,  3,  1, -1,  4,  6,  6,\n",
      "         3,  8,  4,  2,  4,  2,  6,  8,  7,  4, -1,  2,  5,  3,  8,  5,\n",
      "        -1,  5,  6,  9,  4,  4, -1,  2, -1,  3,  1,  0,  3,  1,  7, 10,\n",
      "         4,  4, -2,  8,  2,  5,  3,  5,  3,  4,  0,  4, -1,  3,  4,  3,\n",
      "         4,  6, -1, -1,  2,  5,  5,  2,  5, 10,  0,  1, -2,  4,  6,  2,\n",
      "         7,  3,  4,  7,  5,  4,  8,  1,  2,  4,  2,  2,  6,  2,  5,  3,\n",
      "         2,  5,  4, -2,  2,  0,  4,  1,  3,  7,  9,  6, -1,  8,  7,  4,\n",
      "        11,  2,  9,  0,  2,  0,  5,  5,  2, -1, -5,  1, -1,  5,  7, -3,\n",
      "        -2,  2,  6,  7,  8,  2,  2,  0,  5,  6, -1,  3,  2,  5,  7,  7,\n",
      "         5,  2,  2,  0,  7,  1, -2,  1,  8,  4,  2,  4,  5,  5,  3, 10,\n",
      "         7, -4,  1,  3,  5,  3,  3,  3,  0, 10,  3, 10,  1,  3,  0,  1,\n",
      "         6,  6,  1,  4,  2,  6,  1,  8, -1,  4, -1,  1,  0,  8,  3,  4]],\n",
      "      dtype=int16), 'x2_test': array([[-1,  1,  5,  3,  5,  7,  1,  1,  5,  3,  4,  1,  1,  5,  8,  2,\n",
      "         7,  8,  7,  8,  5, -1,  1,  3, -1,  2,  7,  1,  4,  4,  9,  3,\n",
      "         5,  0,  1,  4,  5,  2,  4,  1,  5,  1,  4,  5,  8,  0,  4, -2,\n",
      "         4,  6,  0,  3,  7,  8,  4,  8,  3,  1,  3, -2,  1,  2,  8,  4,\n",
      "        10,  5,  5,  3,  1,  4,  2, -1,  5,  3,  4,  2,  6,  2,  5,  6,\n",
      "         3,  1,  4,  7, -3,  4,  4,  5,  2,  5,  2,  4,  7,  3,  0,  3,\n",
      "         5,  3,  8,  2,  2,  8,  4,  5,  8,  2,  3,  6,  1,  4,  0,  5,\n",
      "        10,  3,  2,  8,  1,  2,  3,  5,  0,  1,  4,  3, -2, -2, -2,  4,\n",
      "         5,  6,  0, -3,  5,  3,  3,  2,  3,  9,  3,  5, -3, -1,  1,  4,\n",
      "         5, 11, -2, -2,  3,  1,  0,  6,  2,  5,  4, -1,  6,  3,  2,  3,\n",
      "         5,  7,  4, -2,  6,  2,  9,  5,  5,  2,  1,  1,  0,  1,  7,  2,\n",
      "         3,  8,  2,  3,  6,  4,  5,  2,  3,  8, 10,  3,  1,  3,  2,  1,\n",
      "        -2, -1,  3,  2,  7, -2,  1,  5]], dtype=int16)}\n"
     ]
    }
   ],
   "source": [
    "data = sio.loadmat('data.mat')\n",
    "print(data)\n",
    "# x1_train, x1_test, x2_train, x2_test = data['x1_train'], data['x1_test'], data['x2_train'], data['x2_test']\n",
    "# all_x = np.concatenate([x1_train, x1_test, x2_train, x2_test], 1)\n",
    "# data_range = [np.min(all_x), np.max(all_x)]"
   ]
  },
  {
   "cell_type": "code",
   "execution_count": null,
   "metadata": {},
   "outputs": [],
   "source": [
    "from get_x_distribution import get_x_distribution\n",
    "\n",
    "train_x = get_x_distribution(x1_train, x2_train, data_range)\n",
    "test_x = get_x_distribution(x1_test, x2_test, data_range)"
   ]
  },
  {
   "cell_type": "markdown",
   "metadata": {},
   "source": [
    "## Part 1 likelihood\n",
    "Your code for this section will be written inside **bayes_decision_rule/likehood.py**. "
   ]
  },
  {
   "cell_type": "code",
   "execution_count": null,
   "metadata": {},
   "outputs": [],
   "source": [
    "from likelihood import likelihood\n",
    "\n",
    "l = likelihood(train_x)\n",
    "width = 0.35\n",
    "p1 = plt.bar(np.arange(data_range[0], data_range[1] + 1), l.T[:,0], width)\n",
    "p2 = plt.bar(np.arange(data_range[0], data_range[1] + 1) + width, l.T[:,1], width)\n",
    "plt.xlabel('x')\n",
    "plt.ylabel('$P(x|\\omega)$')\n",
    "plt.legend((p1[0], p2[0]), ('$\\omega_1$', '$\\omega_2$'))\n",
    "plt.axis([data_range[0] - 1, data_range[1] + 1, 0, 0.5])\n",
    "plt.show()"
   ]
  },
  {
   "cell_type": "code",
   "execution_count": null,
   "metadata": {},
   "outputs": [],
   "source": [
    "# TODO\n",
    "# compute the number of all the misclassified x using maximum likelihood decision rule\n",
    "\n",
    "# begin answer\n",
    "# end answer\n"
   ]
  },
  {
   "cell_type": "markdown",
   "metadata": {},
   "source": [
    "## Part 2 posterior\n",
    "Your code for this section will be written inside **bayes_decision_rule/posterior.py**. "
   ]
  },
  {
   "cell_type": "code",
   "execution_count": null,
   "metadata": {},
   "outputs": [],
   "source": [
    "from posterior import posterior\n",
    "\n",
    "p = posterior(train_x)\n",
    "width = 0.35\n",
    "p1 = plt.bar(np.arange(data_range[0], data_range[1] + 1), p.T[:,0], width)\n",
    "p2 = plt.bar(np.arange(data_range[0], data_range[1] + 1) + width, p.T[:,1], width)\n",
    "plt.xlabel('x')\n",
    "plt.ylabel('$P(\\omega|x)$')\n",
    "plt.legend((p1[0], p2[0]), ('$\\omega_1$', '$\\omega_2$'))\n",
    "plt.axis([data_range[0] - 1, data_range[1] + 1, 0, 1.2])\n",
    "plt.show()"
   ]
  },
  {
   "cell_type": "code",
   "execution_count": null,
   "metadata": {},
   "outputs": [],
   "source": [
    "# TODO\n",
    "# compute the number of all the misclassified x using optimal bayes decision rule\n",
    "\n",
    "# begin answer\n",
    "# end answer\n"
   ]
  },
  {
   "cell_type": "markdown",
   "metadata": {},
   "source": [
    "## Part 3 risk\n"
   ]
  },
  {
   "cell_type": "code",
   "execution_count": null,
   "metadata": {},
   "outputs": [],
   "source": [
    "risk = np.array([[0, 1], [2, 0]])\n",
    "# TODO\n",
    "# get the minimal risk using optimal bayes decision rule and risk weights\n",
    "\n",
    "# begin answer\n",
    "# end answer"
   ]
  }
 ],
 "metadata": {
  "kernelspec": {
   "display_name": "Python 3",
   "language": "python",
   "name": "python3"
  },
  "language_info": {
   "codemirror_mode": {
    "name": "ipython",
    "version": 3
   },
   "file_extension": ".py",
   "mimetype": "text/x-python",
   "name": "python",
   "nbconvert_exporter": "python",
   "pygments_lexer": "ipython3",
   "version": "3.8.5"
  }
 },
 "nbformat": 4,
 "nbformat_minor": 2
}